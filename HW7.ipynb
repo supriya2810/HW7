{
 "cells": [
  {
   "cell_type": "code",
   "execution_count": 1,
   "metadata": {},
   "outputs": [],
   "source": [
    "import matplotlib.pyplot as plt\n",
    "import numpy as np\n",
    "import pandas as pd\n",
    "import sklearn\n",
    "import tensorflow as tf\n",
    "from tensorflow import keras\n",
    "import sys\n",
    "import copy\n",
    "import os\n",
    "import string\n",
    "from sklearn.preprocessing import MinMaxScaler\n",
    "import operator"
   ]
  },
  {
   "cell_type": "code",
   "execution_count": null,
   "metadata": {},
   "outputs": [],
   "source": []
  },
  {
   "cell_type": "code",
   "execution_count": null,
   "metadata": {},
   "outputs": [],
   "source": [
    "path = r'C:\\Users\\supri\\Downloads\\HW7\\books'\n",
    "final_file = open('full_text.txt', 'w')\n",
    "for text_file in os.listdir(path):\n",
    "    with open(path + '\\\\' + text_file, 'r', \n",
    "              errors='ignore') as file_data:\n",
    "        for line in file_data:\n",
    "            final_file.write(line)\n",
    "\n",
    "final_file.close()\n",
    "text = open('MLOE.txt', 'r').read()\n",
    "print('length of the file is:',len(text))"
   ]
  },
  {
   "cell_type": "code",
   "execution_count": null,
   "metadata": {},
   "outputs": [],
   "source": [
    "# trimedText = copy.copy(orginalText)\n",
    "# charSet = set(orginalText)\n",
    "# if ignore_case:\n",
    "lower_text = text.lower()\n",
    "char_set = set(text.lower())\n",
    "# if remove_punctuation:\n",
    "char_set = char_set.difference(set(string.punctuation))\n",
    "lower_text = lower_text.translate(str.maketrans('', '', string.punctuation))\n",
    "# return trimedText, charSet"
   ]
  },
  {
   "cell_type": "code",
   "execution_count": null,
   "metadata": {},
   "outputs": [],
   "source": [
    "char_dict = {}\n",
    "for index, char in enumerate(sorted(char_set)):\n",
    "    char_dict[char] = index\n",
    "scaled_dict = {}\n",
    "scaled_values = MinMaxScaler().fit_transform(np.array(list(char_dict.values())).reshape(-1, 1))\n",
    "for index in range(len(scaled_values)):\n",
    "    scaled_dict[list(char_dict.keys())[index]] = scaled_values[index][0]"
   ]
  },
  {
   "cell_type": "code",
   "execution_count": null,
   "metadata": {},
   "outputs": [],
   "source": [
    "window_size = 99\n",
    "X = []\n",
    "y = []\n",
    "for i in range(0, len(lower_text) - window_size, 1):\n",
    "    temp_line = lower_text[i:i + window_size]\n",
    "    last_char = lower_text[i + window_size]\n",
    "    X.append([scaled_dict[char] for char in temp_line])\n",
    "    y.append(char_dict[last_char])"
   ]
  },
  {
   "cell_type": "code",
   "execution_count": null,
   "metadata": {},
   "outputs": [],
   "source": [
    "X = np.reshape(X, (len(X), window_size, 1))\n",
    "y = keras.utils.to_categorical(y)\n",
    "print(X.shape)\n",
    "print(y.shape)"
   ]
  },
  {
   "cell_type": "code",
   "execution_count": null,
   "metadata": {},
   "outputs": [],
   "source": [
    "memory_units = 256\n",
    "\n",
    "keras_model = keras.models.Sequential([\n",
    "    keras.layers.LSTM(units=memory_units,\n",
    "                      input_shape=(X.shape[1], X.shape[2])),\n",
    "    keras.layers.Dense(y.shape[1], activation=\"softmax\"),\n",
    "])\n",
    "keras_model.compile(loss='categorical_crossentropy', optimizer=tf.keras.optimizers.Adam(1e-4))\n",
    "keras_model.summary()"
   ]
  },
  {
   "cell_type": "code",
   "execution_count": null,
   "metadata": {},
   "outputs": [],
   "source": [
    "epochs = 1\n",
    "output_folder = \"./keras_files\"\n",
    "if not os.path.exists(output_folder):\n",
    "    os.mkdir(output_folder)\n",
    "    \n",
    "keras_prefix = os.path.join(output_folder, 'keras_{epoch:02d}.hdf5')\n",
    "keras_callback = keras.callbacks.ModelCheckpoint(filepath = keras_prefix,monitor='loss',save_weights_only= True,mode='min')\n",
    "keras_early_stopping = keras.callbacks.EarlyStopping(patience = 5, min_delta = 1e-4)\n",
    "keras_hist = keras_model.fit(X, y, epochs=epochs, batch_size=128, \n",
    "                    callbacks=[keras_callback, keras_early_stopping])"
   ]
  },
  {
   "cell_type": "code",
   "execution_count": 2,
   "metadata": {},
   "outputs": [
    {
     "name": "stdout",
     "output_type": "stream",
     "text": [
      "Num GPUs Available:  0\n"
     ]
    }
   ],
   "source": [
    "print(\"Num GPUs Available: \", len(tf.config.experimental.list_physical_devices('GPU')))"
   ]
  },
  {
   "cell_type": "code",
   "execution_count": 3,
   "metadata": {},
   "outputs": [
    {
     "name": "stdout",
     "output_type": "stream",
     "text": [
      "Collecting tensorflow-gpu\n",
      "  Downloading tensorflow_gpu-2.2.0-cp37-cp37m-win_amd64.whl (460.4 MB)\n",
      "Collecting astunparse==1.6.3\n",
      "  Downloading astunparse-1.6.3-py2.py3-none-any.whl (12 kB)\n",
      "Requirement already satisfied: opt-einsum>=2.3.2 in c:\\users\\supri\\anaconda3\\lib\\site-packages (from tensorflow-gpu) (3.3.0)\n",
      "Requirement already satisfied: wrapt>=1.11.1 in c:\\users\\supri\\anaconda3\\lib\\site-packages (from tensorflow-gpu) (1.11.2)\n",
      "Requirement already satisfied: six>=1.12.0 in c:\\users\\supri\\anaconda3\\lib\\site-packages (from tensorflow-gpu) (1.14.0)\n",
      "Requirement already satisfied: grpcio>=1.8.6 in c:\\users\\supri\\anaconda3\\lib\\site-packages (from tensorflow-gpu) (1.30.0)\n",
      "Collecting gast==0.3.3\n",
      "  Downloading gast-0.3.3-py2.py3-none-any.whl (9.7 kB)\n",
      "Collecting tensorboard<2.3.0,>=2.2.0\n",
      "  Downloading tensorboard-2.2.2-py3-none-any.whl (3.0 MB)\n",
      "Requirement already satisfied: absl-py>=0.7.0 in c:\\users\\supri\\anaconda3\\lib\\site-packages (from tensorflow-gpu) (0.9.0)\n",
      "Collecting tensorflow-gpu-estimator<2.3.0,>=2.2.0\n",
      "  Downloading tensorflow_gpu_estimator-2.2.0-py2.py3-none-any.whl (470 kB)\n",
      "Requirement already satisfied: keras-preprocessing>=1.1.0 in c:\\users\\supri\\anaconda3\\lib\\site-packages (from tensorflow-gpu) (1.1.2)\n",
      "Requirement already satisfied: h5py<2.11.0,>=2.10.0 in c:\\users\\supri\\anaconda3\\lib\\site-packages (from tensorflow-gpu) (2.10.0)\n",
      "Requirement already satisfied: numpy<2.0,>=1.16.0 in c:\\users\\supri\\anaconda3\\lib\\site-packages (from tensorflow-gpu) (1.18.1)\n",
      "Requirement already satisfied: google-pasta>=0.1.8 in c:\\users\\supri\\anaconda3\\lib\\site-packages (from tensorflow-gpu) (0.2.0)\n",
      "Requirement already satisfied: scipy==1.4.1; python_version >= \"3\" in c:\\users\\supri\\anaconda3\\lib\\site-packages (from tensorflow-gpu) (1.4.1)\n",
      "Requirement already satisfied: wheel>=0.26; python_version >= \"3\" in c:\\users\\supri\\anaconda3\\lib\\site-packages (from tensorflow-gpu) (0.34.2)\n",
      "Requirement already satisfied: protobuf>=3.8.0 in c:\\users\\supri\\anaconda3\\lib\\site-packages (from tensorflow-gpu) (3.12.2)\n",
      "Requirement already satisfied: termcolor>=1.1.0 in c:\\users\\supri\\anaconda3\\lib\\site-packages (from tensorflow-gpu) (1.1.0)\n",
      "Requirement already satisfied: werkzeug>=0.11.15 in c:\\users\\supri\\anaconda3\\lib\\site-packages (from tensorboard<2.3.0,>=2.2.0->tensorflow-gpu) (1.0.0)\n",
      "Requirement already satisfied: markdown>=2.6.8 in c:\\users\\supri\\anaconda3\\lib\\site-packages (from tensorboard<2.3.0,>=2.2.0->tensorflow-gpu) (3.2.2)\n",
      "Requirement already satisfied: requests<3,>=2.21.0 in c:\\users\\supri\\anaconda3\\lib\\site-packages (from tensorboard<2.3.0,>=2.2.0->tensorflow-gpu) (2.22.0)\n",
      "Requirement already satisfied: google-auth<2,>=1.6.3 in c:\\users\\supri\\anaconda3\\lib\\site-packages (from tensorboard<2.3.0,>=2.2.0->tensorflow-gpu) (1.19.2)\n",
      "Requirement already satisfied: setuptools>=41.0.0 in c:\\users\\supri\\anaconda3\\lib\\site-packages (from tensorboard<2.3.0,>=2.2.0->tensorflow-gpu) (45.2.0.post20200210)\n",
      "Requirement already satisfied: google-auth-oauthlib<0.5,>=0.4.1 in c:\\users\\supri\\anaconda3\\lib\\site-packages (from tensorboard<2.3.0,>=2.2.0->tensorflow-gpu) (0.4.1)\n",
      "Collecting tensorboard-plugin-wit>=1.6.0\n",
      "  Downloading tensorboard_plugin_wit-1.7.0-py3-none-any.whl (779 kB)\n",
      "Requirement already satisfied: importlib-metadata; python_version < \"3.8\" in c:\\users\\supri\\anaconda3\\lib\\site-packages (from markdown>=2.6.8->tensorboard<2.3.0,>=2.2.0->tensorflow-gpu) (1.5.0)\n",
      "Requirement already satisfied: certifi>=2017.4.17 in c:\\users\\supri\\anaconda3\\lib\\site-packages (from requests<3,>=2.21.0->tensorboard<2.3.0,>=2.2.0->tensorflow-gpu) (2019.11.28)\n",
      "Requirement already satisfied: idna<2.9,>=2.5 in c:\\users\\supri\\anaconda3\\lib\\site-packages (from requests<3,>=2.21.0->tensorboard<2.3.0,>=2.2.0->tensorflow-gpu) (2.8)\n",
      "Requirement already satisfied: urllib3!=1.25.0,!=1.25.1,<1.26,>=1.21.1 in c:\\users\\supri\\anaconda3\\lib\\site-packages (from requests<3,>=2.21.0->tensorboard<2.3.0,>=2.2.0->tensorflow-gpu) (1.25.8)\n",
      "Requirement already satisfied: chardet<3.1.0,>=3.0.2 in c:\\users\\supri\\anaconda3\\lib\\site-packages (from requests<3,>=2.21.0->tensorboard<2.3.0,>=2.2.0->tensorflow-gpu) (3.0.4)\n",
      "Requirement already satisfied: cachetools<5.0,>=2.0.0 in c:\\users\\supri\\anaconda3\\lib\\site-packages (from google-auth<2,>=1.6.3->tensorboard<2.3.0,>=2.2.0->tensorflow-gpu) (4.1.1)\n",
      "Requirement already satisfied: pyasn1-modules>=0.2.1 in c:\\users\\supri\\anaconda3\\lib\\site-packages (from google-auth<2,>=1.6.3->tensorboard<2.3.0,>=2.2.0->tensorflow-gpu) (0.2.8)\n",
      "Requirement already satisfied: rsa<5,>=3.1.4; python_version >= \"3\" in c:\\users\\supri\\anaconda3\\lib\\site-packages (from google-auth<2,>=1.6.3->tensorboard<2.3.0,>=2.2.0->tensorflow-gpu) (4.6)\n",
      "Requirement already satisfied: requests-oauthlib>=0.7.0 in c:\\users\\supri\\anaconda3\\lib\\site-packages (from google-auth-oauthlib<0.5,>=0.4.1->tensorboard<2.3.0,>=2.2.0->tensorflow-gpu) (1.3.0)\n",
      "Requirement already satisfied: zipp>=0.5 in c:\\users\\supri\\anaconda3\\lib\\site-packages (from importlib-metadata; python_version < \"3.8\"->markdown>=2.6.8->tensorboard<2.3.0,>=2.2.0->tensorflow-gpu) (2.2.0)\n",
      "Requirement already satisfied: pyasn1<0.5.0,>=0.4.6 in c:\\users\\supri\\anaconda3\\lib\\site-packages (from pyasn1-modules>=0.2.1->google-auth<2,>=1.6.3->tensorboard<2.3.0,>=2.2.0->tensorflow-gpu) (0.4.8)\n",
      "Requirement already satisfied: oauthlib>=3.0.0 in c:\\users\\supri\\anaconda3\\lib\\site-packages (from requests-oauthlib>=0.7.0->google-auth-oauthlib<0.5,>=0.4.1->tensorboard<2.3.0,>=2.2.0->tensorflow-gpu) (3.1.0)\n",
      "Installing collected packages: astunparse, gast, tensorboard-plugin-wit, tensorboard, tensorflow-gpu-estimator, tensorflow-gpu\n",
      "  Attempting uninstall: gast\n",
      "    Found existing installation: gast 0.2.2\n",
      "    Uninstalling gast-0.2.2:\n",
      "      Successfully uninstalled gast-0.2.2\n",
      "  Attempting uninstall: tensorboard\n",
      "    Found existing installation: tensorboard 2.0.2\n",
      "    Uninstalling tensorboard-2.0.2:\n",
      "      Successfully uninstalled tensorboard-2.0.2\n",
      "Successfully installed astunparse-1.6.3 gast-0.3.3 tensorboard-2.2.2 tensorboard-plugin-wit-1.7.0 tensorflow-gpu-2.2.0 tensorflow-gpu-estimator-2.2.0\n",
      "Note: you may need to restart the kernel to use updated packages.\n"
     ]
    },
    {
     "name": "stderr",
     "output_type": "stream",
     "text": [
      "ERROR: tensorflow 2.0.0 has requirement gast==0.2.2, but you'll have gast 0.3.3 which is incompatible.\n",
      "ERROR: tensorflow 2.0.0 has requirement tensorboard<2.1.0,>=2.0.0, but you'll have tensorboard 2.2.2 which is incompatible.\n"
     ]
    }
   ],
   "source": [
    "pip install tensorflow-gpu"
   ]
  },
  {
   "cell_type": "code",
   "execution_count": null,
   "metadata": {},
   "outputs": [],
   "source": [
    "pip uninstall tensorflow==2.0"
   ]
  },
  {
   "cell_type": "code",
   "execution_count": null,
   "metadata": {},
   "outputs": [],
   "source": []
  }
 ],
 "metadata": {
  "kernelspec": {
   "display_name": "Python 3",
   "language": "python",
   "name": "python3"
  },
  "language_info": {
   "codemirror_mode": {
    "name": "ipython",
    "version": 3
   },
   "file_extension": ".py",
   "mimetype": "text/x-python",
   "name": "python",
   "nbconvert_exporter": "python",
   "pygments_lexer": "ipython3",
   "version": "3.7.6"
  }
 },
 "nbformat": 4,
 "nbformat_minor": 2
}
